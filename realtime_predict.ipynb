{
 "cells": [
  {
   "cell_type": "code",
   "execution_count": 17,
   "id": "f462479f",
   "metadata": {},
   "outputs": [],
   "source": [
    "import cv2\n",
    "import mediapipe as mp\n",
    "import numpy as np\n",
    "import tensorflow as tf\n",
    "import json\n",
    "import pyttsx3\n",
    "from collections import deque\n",
    "from statistics import mode"
   ]
  },
  {
   "cell_type": "code",
   "execution_count": 18,
   "id": "1bd40d33",
   "metadata": {},
   "outputs": [],
   "source": [
    "model = tf.keras.models.load_model(\"models/best_asl_landmark_model.h5\")\n",
    "\n",
    "with open(\"dataset/static/cache/label_map.json\", \"r\") as f:\n",
    "    label_map = json.load(f)\n",
    "\n",
    "idx_to_label = {v: k for k, v in label_map.items()}"
   ]
  },
  {
   "cell_type": "code",
   "execution_count": 31,
   "id": "87526921",
   "metadata": {},
   "outputs": [],
   "source": [
    "engine = pyttsx3.init()\n",
    "\n",
    "# Set properties\n",
    "engine.setProperty('rate', 150)     # Speed of speech\n",
    "engine.setProperty('volume', 1.0)   # Max volume\n",
    "\n",
    "# Choose a voice\n",
    "voices = engine.getProperty('voices')\n",
    "engine.setProperty('voice', voices[0].id)  \n",
    "\n",
    "# For stable predictions\n",
    "prediction_buffer = deque(maxlen=10)  \n",
    "previous_prediction = \"\""
   ]
  },
  {
   "cell_type": "code",
   "execution_count": 37,
   "id": "8d83f3d4",
   "metadata": {},
   "outputs": [],
   "source": [
    "def get_stable_prediction(new_pred):\n",
    "    prediction_buffer.append(new_pred)\n",
    "    if len(prediction_buffer) == prediction_buffer.maxlen:\n",
    "        return mode(prediction_buffer)\n",
    "    return \"\"\n",
    "\n",
    "def speak_prediction(prediction):\n",
    "    global previous_prediction\n",
    "    if prediction != \"\" and prediction != previous_prediction:\n",
    "        previous_prediction = prediction\n",
    "        engine.say(prediction)\n"
   ]
  },
  {
   "cell_type": "code",
   "execution_count": 23,
   "id": "3d6bb907",
   "metadata": {},
   "outputs": [],
   "source": [
    "mp_hands = mp.solutions.hands\n",
    "mp_drawing = mp.solutions.drawing_utils\n",
    "\n",
    "hands = mp_hands.Hands(\n",
    "    max_num_hands=1,\n",
    "    min_detection_confidence=0.7,\n",
    "    min_tracking_confidence=0.7\n",
    ")"
   ]
  },
  {
   "cell_type": "code",
   "execution_count": null,
   "id": "b270da23",
   "metadata": {},
   "outputs": [],
   "source": [
    "cap = cv2.VideoCapture(0)\n",
    "\n",
    "while cap.isOpened():\n",
    "    ret, frame = cap.read()\n",
    "    if not ret:\n",
    "        break\n",
    "\n",
    "    frame = cv2.flip(frame, 1)\n",
    "    rgb = cv2.cvtColor(frame, cv2.COLOR_BGR2RGB)\n",
    "    results = hands.process(rgb)\n",
    "\n",
    "    prediction_text = \"No Hand Detected\"\n",
    "\n",
    "    if results.multi_hand_landmarks:\n",
    "        for hand_landmarks in results.multi_hand_landmarks:\n",
    "            mp_drawing.draw_landmarks(frame, hand_landmarks, mp_hands.HAND_CONNECTIONS)\n",
    "\n",
    "            landmarks = []\n",
    "            for lm in hand_landmarks.landmark:\n",
    "                landmarks.extend([lm.x, lm.y, lm.z])\n",
    "\n",
    "            # Convert to NumPy and reshape\n",
    "            input_data = np.array(landmarks).reshape(1, -1)\n",
    "\n",
    "            # Predict\n",
    "            prediction = model.predict(input_data)\n",
    "            predicted_class = np.argmax(prediction)\n",
    "            confidence = np.max(prediction)\n",
    "\n",
    "            # Convert index to label\n",
    "            predicted_label = idx_to_label[predicted_class]\n",
    "            stable_pred = get_stable_prediction(predicted_label)\n",
    "            prediction_text = f\"{stable_pred} ({confidence:.2f})\"\n",
    "            speak_prediction(stable_pred)\n",
    "\n",
    "    # Display prediction on the frame\n",
    "    cv2.putText(frame, prediction_text, (10, 40),\n",
    "                cv2.FONT_HERSHEY_SIMPLEX, 1, (0, 255, 0), 2)\n",
    "\n",
    "    cv2.imshow(\"ASL Real-Time Detection\", frame)\n",
    "\n",
    "    if cv2.waitKey(1) & 0xFF == ord(\"q\"):\n",
    "        break\n",
    "\n",
    "cap.release()\n",
    "cv2.destroyAllWindows()"
   ]
  },
  {
   "cell_type": "code",
   "execution_count": null,
   "id": "e0dbe11e",
   "metadata": {},
   "outputs": [],
   "source": []
  }
 ],
 "metadata": {
  "kernelspec": {
   "display_name": "asl_env",
   "language": "python",
   "name": "python3"
  },
  "language_info": {
   "codemirror_mode": {
    "name": "ipython",
    "version": 3
   },
   "file_extension": ".py",
   "mimetype": "text/x-python",
   "name": "python",
   "nbconvert_exporter": "python",
   "pygments_lexer": "ipython3",
   "version": "3.10.18"
  }
 },
 "nbformat": 4,
 "nbformat_minor": 5
}
