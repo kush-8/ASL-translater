{
 "cells": [
  {
   "cell_type": "code",
   "execution_count": 2,
   "id": "70b2655e",
   "metadata": {},
   "outputs": [
    {
     "name": "stdout",
     "output_type": "stream",
     "text": [
      "WARNING:tensorflow:From c:\\Users\\acer\\miniconda3\\envs\\asl_env\\lib\\site-packages\\keras\\src\\losses.py:2976: The name tf.losses.sparse_softmax_cross_entropy is deprecated. Please use tf.compat.v1.losses.sparse_softmax_cross_entropy instead.\n",
      "\n"
     ]
    }
   ],
   "source": [
    "import os\n",
    "import numpy as np\n",
    "from sklearn.model_selection import train_test_split\n",
    "from tensorflow.keras.utils import to_categorical\n",
    "from tensorflow.keras import layers, models\n",
    "from tensorflow.keras.models import Sequential\n",
    "from tensorflow.keras.layers import Dense, Dropout\n",
    "from tensorflow.keras.callbacks import EarlyStopping, ModelCheckpoint\n",
    "import matplotlib.pyplot as plt\n",
    "import json"
   ]
  },
  {
   "cell_type": "code",
   "execution_count": 3,
   "id": "f2e9332a",
   "metadata": {},
   "outputs": [],
   "source": [
    "DATA_PATH = \"dataset/static/landmarks\"\n",
    "CACHE_DIR = \"dataset/static/cache\"\n",
    "os.makedirs(CACHE_DIR, exist_ok=True)\n",
    "X_FILE = os.path.join(CACHE_DIR, \"X.npy\")\n",
    "Y_FILE = os.path.join(CACHE_DIR, \"y.npy\")\n",
    "LABEL_MAP_FILE = os.path.join(CACHE_DIR, \"label_map.json\")"
   ]
  },
  {
   "cell_type": "code",
   "execution_count": 4,
   "id": "13ac1df8",
   "metadata": {},
   "outputs": [
    {
     "name": "stdout",
     "output_type": "stream",
     "text": [
      "Loading cached data...\n"
     ]
    }
   ],
   "source": [
    "if os.path.exists(X_FILE) and os.path.exists(Y_FILE) and os.path.exists(LABEL_MAP_FILE):\n",
    "    print(\"Loading cached data...\")\n",
    "    X = np.load(X_FILE)\n",
    "    y = np.load(Y_FILE)\n",
    "    with open(LABEL_MAP_FILE, \"r\") as f:\n",
    "        label_map = json.load(f)\n",
    "else:\n",
    "    print(\"Processing data from scratch...\")\n",
    "    labels = sorted(os.listdir(DATA_PATH))  # ['A', 'B', ..., 'Z']\n",
    "    label_map = {label: idx for idx, label in enumerate(labels)}\n",
    "    \n",
    "    X, y = [], []\n",
    "\n",
    "    for label in labels:\n",
    "        folder_path = os.path.join(DATA_PATH, label)\n",
    "        for file in os.listdir(folder_path):\n",
    "            if file.endswith(\".npy\"):\n",
    "                data = np.load(os.path.join(folder_path, file))\n",
    "                X.append(data)\n",
    "                y.append(label_map[label])\n",
    "\n",
    "    X = np.array(X)  # shape: (num_samples, 63)\n",
    "    y = np.array(y)\n",
    "\n",
    "    # Save cached data\n",
    "    np.save(X_FILE, X)\n",
    "    np.save(Y_FILE, y)\n",
    "    with open(LABEL_MAP_FILE, \"w\") as f:\n",
    "        json.dump(label_map, f)"
   ]
  },
  {
   "cell_type": "code",
   "execution_count": 5,
   "id": "5a9499af",
   "metadata": {},
   "outputs": [],
   "source": [
    "X_train, X_test, y_train, y_test = train_test_split(\n",
    "    X, y, test_size=0.2, stratify=y, random_state=42\n",
    ")\n"
   ]
  },
  {
   "cell_type": "code",
   "execution_count": 6,
   "id": "ae95e2cd",
   "metadata": {},
   "outputs": [
    {
     "name": "stdout",
     "output_type": "stream",
     "text": [
      "X_train shape: (45680, 63)\n",
      "y_train_encoded shape: (45680, 26)\n"
     ]
    }
   ],
   "source": [
    "num_classes = len(label_map)\n",
    "y_train_encoded = to_categorical(y_train, num_classes=num_classes)\n",
    "y_test_encoded = to_categorical(y_test, num_classes=num_classes)\n",
    "\n",
    "print(\"X_train shape:\", X_train.shape)\n",
    "print(\"y_train_encoded shape:\", y_train_encoded.shape)"
   ]
  },
  {
   "cell_type": "code",
   "execution_count": 7,
   "id": "a649148d",
   "metadata": {},
   "outputs": [
    {
     "name": "stdout",
     "output_type": "stream",
     "text": [
      "X_test shape: (11420, 63)\n",
      "y_test_encoded shape: (11420, 26)\n"
     ]
    }
   ],
   "source": [
    "print(\"X_test shape:\", X_test.shape)\n",
    "print(\"y_test_encoded shape:\", y_test_encoded.shape)"
   ]
  },
  {
   "cell_type": "code",
   "execution_count": 8,
   "id": "3b5a4a0f",
   "metadata": {},
   "outputs": [
    {
     "name": "stdout",
     "output_type": "stream",
     "text": [
      "WARNING:tensorflow:From c:\\Users\\acer\\miniconda3\\envs\\asl_env\\lib\\site-packages\\keras\\src\\backend.py:1398: The name tf.executing_eagerly_outside_functions is deprecated. Please use tf.compat.v1.executing_eagerly_outside_functions instead.\n",
      "\n"
     ]
    }
   ],
   "source": [
    "input_shape = (63,)\n",
    "num_classes = len(label_map)  # 26 for A-Z\n",
    "\n",
    "model = models.Sequential([\n",
    "    layers.Input(shape=input_shape),\n",
    "    layers.Dense(128, activation='relu'),\n",
    "    layers.Dropout(0.3),\n",
    "    layers.Dense(64, activation='relu'),\n",
    "    layers.Dropout(0.3),\n",
    "    layers.Dense(num_classes, activation='softmax')  # Multi-class output\n",
    "])"
   ]
  },
  {
   "cell_type": "code",
   "execution_count": 9,
   "id": "21792dc8",
   "metadata": {},
   "outputs": [
    {
     "name": "stdout",
     "output_type": "stream",
     "text": [
      "WARNING:tensorflow:From c:\\Users\\acer\\miniconda3\\envs\\asl_env\\lib\\site-packages\\keras\\src\\optimizers\\__init__.py:309: The name tf.train.Optimizer is deprecated. Please use tf.compat.v1.train.Optimizer instead.\n",
      "\n",
      "Model: \"sequential\"\n",
      "_________________________________________________________________\n",
      " Layer (type)                Output Shape              Param #   \n",
      "=================================================================\n",
      " dense (Dense)               (None, 128)               8192      \n",
      "                                                                 \n",
      " dropout (Dropout)           (None, 128)               0         \n",
      "                                                                 \n",
      " dense_1 (Dense)             (None, 64)                8256      \n",
      "                                                                 \n",
      " dropout_1 (Dropout)         (None, 64)                0         \n",
      "                                                                 \n",
      " dense_2 (Dense)             (None, 26)                1690      \n",
      "                                                                 \n",
      "=================================================================\n",
      "Total params: 18138 (70.85 KB)\n",
      "Trainable params: 18138 (70.85 KB)\n",
      "Non-trainable params: 0 (0.00 Byte)\n",
      "_________________________________________________________________\n"
     ]
    }
   ],
   "source": [
    "model.compile(\n",
    "    optimizer='adam',\n",
    "    loss='sparse_categorical_crossentropy',\n",
    "    metrics=['accuracy']\n",
    ")\n",
    "\n",
    "model.summary()"
   ]
  },
  {
   "cell_type": "code",
   "execution_count": 10,
   "id": "31fed730",
   "metadata": {},
   "outputs": [],
   "source": [
    "checkpoint_path = \"models/best_asl_landmark_model.h5\"\n",
    "os.makedirs(os.path.dirname(checkpoint_path), exist_ok=True)\n",
    "callbacks = [\n",
    "    EarlyStopping(\n",
    "        monitor='val_loss', \n",
    "        patience=5, \n",
    "        restore_best_weights=True, \n",
    "        verbose=1),\n",
    "    ModelCheckpoint(\n",
    "        checkpoint_path, \n",
    "        monitor='val_loss', \n",
    "        save_best_only=True, \n",
    "        save_weights_only=False,\n",
    "        verbose=1)  \n",
    "]\n"
   ]
  },
  {
   "cell_type": "code",
   "execution_count": 11,
   "id": "95d32faf",
   "metadata": {},
   "outputs": [
    {
     "name": "stdout",
     "output_type": "stream",
     "text": [
      "Epoch 1/50\n",
      "WARNING:tensorflow:From c:\\Users\\acer\\miniconda3\\envs\\asl_env\\lib\\site-packages\\keras\\src\\utils\\tf_utils.py:492: The name tf.ragged.RaggedTensorValue is deprecated. Please use tf.compat.v1.ragged.RaggedTensorValue instead.\n",
      "\n",
      "WARNING:tensorflow:From c:\\Users\\acer\\miniconda3\\envs\\asl_env\\lib\\site-packages\\keras\\src\\engine\\base_layer_utils.py:384: The name tf.executing_eagerly_outside_functions is deprecated. Please use tf.compat.v1.executing_eagerly_outside_functions instead.\n",
      "\n",
      "1406/1428 [============================>.] - ETA: 0s - loss: 1.4866 - accuracy: 0.5475\n",
      "Epoch 1: val_loss improved from inf to 0.42613, saving model to models\\best_asl_landmark_model.h5\n",
      "1428/1428 [==============================] - 3s 1ms/step - loss: 1.4743 - accuracy: 0.5512 - val_loss: 0.4261 - val_accuracy: 0.9208\n",
      "Epoch 2/50\n",
      "  97/1428 [=>............................] - ETA: 2s - loss: 0.6149 - accuracy: 0.8054"
     ]
    },
    {
     "name": "stderr",
     "output_type": "stream",
     "text": [
      "c:\\Users\\acer\\miniconda3\\envs\\asl_env\\lib\\site-packages\\keras\\src\\engine\\training.py:3103: UserWarning: You are saving your model as an HDF5 file via `model.save()`. This file format is considered legacy. We recommend using instead the native Keras format, e.g. `model.save('my_model.keras')`.\n",
      "  saving_api.save_model(\n"
     ]
    },
    {
     "name": "stdout",
     "output_type": "stream",
     "text": [
      "1390/1428 [============================>.] - ETA: 0s - loss: 0.4974 - accuracy: 0.8437\n",
      "Epoch 2: val_loss improved from 0.42613 to 0.25185, saving model to models\\best_asl_landmark_model.h5\n",
      "1428/1428 [==============================] - 2s 2ms/step - loss: 0.4939 - accuracy: 0.8447 - val_loss: 0.2519 - val_accuracy: 0.9160\n",
      "Epoch 3/50\n",
      "1419/1428 [============================>.] - ETA: 0s - loss: 0.3332 - accuracy: 0.8963\n",
      "Epoch 3: val_loss improved from 0.25185 to 0.17438, saving model to models\\best_asl_landmark_model.h5\n",
      "1428/1428 [==============================] - 2s 2ms/step - loss: 0.3331 - accuracy: 0.8964 - val_loss: 0.1744 - val_accuracy: 0.9511\n",
      "Epoch 4/50\n",
      "1427/1428 [============================>.] - ETA: 0s - loss: 0.2668 - accuracy: 0.9175\n",
      "Epoch 4: val_loss improved from 0.17438 to 0.13245, saving model to models\\best_asl_landmark_model.h5\n",
      "1428/1428 [==============================] - 3s 2ms/step - loss: 0.2667 - accuracy: 0.9175 - val_loss: 0.1325 - val_accuracy: 0.9701\n",
      "Epoch 5/50\n",
      "1389/1428 [============================>.] - ETA: 0s - loss: 0.2327 - accuracy: 0.9292\n",
      "Epoch 5: val_loss improved from 0.13245 to 0.11969, saving model to models\\best_asl_landmark_model.h5\n",
      "1428/1428 [==============================] - 2s 2ms/step - loss: 0.2326 - accuracy: 0.9291 - val_loss: 0.1197 - val_accuracy: 0.9651\n",
      "Epoch 6/50\n",
      "1423/1428 [============================>.] - ETA: 0s - loss: 0.2034 - accuracy: 0.9363\n",
      "Epoch 6: val_loss did not improve from 0.11969\n",
      "1428/1428 [==============================] - 3s 2ms/step - loss: 0.2037 - accuracy: 0.9363 - val_loss: 0.1263 - val_accuracy: 0.9613\n",
      "Epoch 7/50\n",
      "1424/1428 [============================>.] - ETA: 0s - loss: 0.1907 - accuracy: 0.9421\n",
      "Epoch 7: val_loss improved from 0.11969 to 0.09650, saving model to models\\best_asl_landmark_model.h5\n",
      "1428/1428 [==============================] - 3s 2ms/step - loss: 0.1907 - accuracy: 0.9421 - val_loss: 0.0965 - val_accuracy: 0.9757\n",
      "Epoch 8/50\n",
      "1416/1428 [============================>.] - ETA: 0s - loss: 0.1811 - accuracy: 0.9446\n",
      "Epoch 8: val_loss did not improve from 0.09650\n",
      "1428/1428 [==============================] - 3s 2ms/step - loss: 0.1812 - accuracy: 0.9445 - val_loss: 0.1019 - val_accuracy: 0.9741\n",
      "Epoch 9/50\n",
      "1425/1428 [============================>.] - ETA: 0s - loss: 0.1713 - accuracy: 0.9464\n",
      "Epoch 9: val_loss improved from 0.09650 to 0.08298, saving model to models\\best_asl_landmark_model.h5\n",
      "1428/1428 [==============================] - 3s 2ms/step - loss: 0.1713 - accuracy: 0.9465 - val_loss: 0.0830 - val_accuracy: 0.9802\n",
      "Epoch 10/50\n",
      "1410/1428 [============================>.] - ETA: 0s - loss: 0.1617 - accuracy: 0.9504\n",
      "Epoch 10: val_loss improved from 0.08298 to 0.07984, saving model to models\\best_asl_landmark_model.h5\n",
      "1428/1428 [==============================] - 2s 1ms/step - loss: 0.1620 - accuracy: 0.9504 - val_loss: 0.0798 - val_accuracy: 0.9799\n",
      "Epoch 11/50\n",
      "1397/1428 [============================>.] - ETA: 0s - loss: 0.1591 - accuracy: 0.9510\n",
      "Epoch 11: val_loss did not improve from 0.07984\n",
      "1428/1428 [==============================] - 2s 1ms/step - loss: 0.1588 - accuracy: 0.9512 - val_loss: 0.0840 - val_accuracy: 0.9754\n",
      "Epoch 12/50\n",
      "1418/1428 [============================>.] - ETA: 0s - loss: 0.1539 - accuracy: 0.9527\n",
      "Epoch 12: val_loss did not improve from 0.07984\n",
      "1428/1428 [==============================] - 2s 2ms/step - loss: 0.1537 - accuracy: 0.9528 - val_loss: 0.0837 - val_accuracy: 0.9759\n",
      "Epoch 13/50\n",
      "1427/1428 [============================>.] - ETA: 0s - loss: 0.1485 - accuracy: 0.9540\n",
      "Epoch 13: val_loss improved from 0.07984 to 0.07597, saving model to models\\best_asl_landmark_model.h5\n",
      "1428/1428 [==============================] - 2s 2ms/step - loss: 0.1485 - accuracy: 0.9540 - val_loss: 0.0760 - val_accuracy: 0.9798\n",
      "Epoch 14/50\n",
      "1405/1428 [============================>.] - ETA: 0s - loss: 0.1424 - accuracy: 0.9557\n",
      "Epoch 14: val_loss improved from 0.07597 to 0.06862, saving model to models\\best_asl_landmark_model.h5\n",
      "1428/1428 [==============================] - 2s 1ms/step - loss: 0.1424 - accuracy: 0.9556 - val_loss: 0.0686 - val_accuracy: 0.9828\n",
      "Epoch 15/50\n",
      "1411/1428 [============================>.] - ETA: 0s - loss: 0.1399 - accuracy: 0.9566\n",
      "Epoch 15: val_loss did not improve from 0.06862\n",
      "1428/1428 [==============================] - 2s 2ms/step - loss: 0.1396 - accuracy: 0.9566 - val_loss: 0.0688 - val_accuracy: 0.9806\n",
      "Epoch 16/50\n",
      "1424/1428 [============================>.] - ETA: 0s - loss: 0.1378 - accuracy: 0.9576\n",
      "Epoch 16: val_loss did not improve from 0.06862\n",
      "1428/1428 [==============================] - 2s 2ms/step - loss: 0.1377 - accuracy: 0.9576 - val_loss: 0.0706 - val_accuracy: 0.9821\n",
      "Epoch 17/50\n",
      "1417/1428 [============================>.] - ETA: 0s - loss: 0.1356 - accuracy: 0.9591\n",
      "Epoch 17: val_loss did not improve from 0.06862\n",
      "1428/1428 [==============================] - 2s 2ms/step - loss: 0.1361 - accuracy: 0.9589 - val_loss: 0.0806 - val_accuracy: 0.9751\n",
      "Epoch 18/50\n",
      "1419/1428 [============================>.] - ETA: 0s - loss: 0.1296 - accuracy: 0.9613\n",
      "Epoch 18: val_loss did not improve from 0.06862\n",
      "1428/1428 [==============================] - 2s 2ms/step - loss: 0.1295 - accuracy: 0.9613 - val_loss: 0.0710 - val_accuracy: 0.9765\n",
      "Epoch 19/50\n",
      "1425/1428 [============================>.] - ETA: 0s - loss: 0.1334 - accuracy: 0.9592Restoring model weights from the end of the best epoch: 14.\n",
      "\n",
      "Epoch 19: val_loss did not improve from 0.06862\n",
      "1428/1428 [==============================] - 3s 2ms/step - loss: 0.1333 - accuracy: 0.9592 - val_loss: 0.0730 - val_accuracy: 0.9810\n",
      "Epoch 19: early stopping\n"
     ]
    }
   ],
   "source": [
    "history = model.fit(\n",
    "    X_train, y_train,\n",
    "    validation_data=(X_test, y_test),\n",
    "    epochs=50,\n",
    "    batch_size=32,\n",
    "    callbacks=callbacks\n",
    ")"
   ]
  },
  {
   "cell_type": "code",
   "execution_count": 12,
   "id": "102297f7",
   "metadata": {},
   "outputs": [
    {
     "data": {
      "image/png": "[encoded data removed]",
      "text/plain": [
       "<Figure size 1200x500 with 2 Axes>"
      ]
     },
     "metadata": {},
     "output_type": "display_data"
    }
   ],
   "source": [
    "def plot_training_history(history):\n",
    "    acc = history.history['accuracy']\n",
    "    val_acc = history.history['val_accuracy']\n",
    "    loss = history.history['loss']\n",
    "    val_loss = history.history['val_loss']\n",
    "    epochs_range = range(len(acc))\n",
    "\n",
    "    plt.figure(figsize=(12, 5))\n",
    "\n",
    "    # Accuracy Plot\n",
    "    plt.subplot(1, 2, 1)\n",
    "    plt.plot(epochs_range, acc, label='Training Accuracy')\n",
    "    plt.plot(epochs_range, val_acc, label='Validation Accuracy')\n",
    "    plt.title('Training vs Validation Accuracy')\n",
    "    plt.xlabel('Epoch')\n",
    "    plt.ylabel('Accuracy')\n",
    "    plt.legend(loc='lower right')\n",
    "\n",
    "    # Loss Plot\n",
    "    plt.subplot(1, 2, 2)\n",
    "    plt.plot(epochs_range, loss, label='Training Loss')\n",
    "    plt.plot(epochs_range, val_loss, label='Validation Loss')\n",
    "    plt.title('Training vs Validation Loss')\n",
    "    plt.xlabel('Epoch')\n",
    "    plt.ylabel('Loss')\n",
    "    plt.legend(loc='upper right')\n",
    "\n",
    "    plt.tight_layout()\n",
    "    plt.show()\n",
    "\n",
    "plot_training_history(history)"
   ]
  },
  {
   "cell_type": "code",
   "execution_count": null,
   "id": "4f8eb9ac",
   "metadata": {},
   "outputs": [],
   "source": []
  }
 ],
 "metadata": {
  "kernelspec": {
   "display_name": "asl_env",
   "language": "python",
   "name": "python3"
  },
  "language_info": {
   "codemirror_mode": {
    "name": "ipython",
    "version": 3
   },
   "file_extension": ".py",
   "mimetype": "text/x-python",
   "name": "python",
   "nbconvert_exporter": "python",
   "pygments_lexer": "ipython3",
   "version": "3.10.18"
  }
 },
 "nbformat": 4,
 "nbformat_minor": 5
}
