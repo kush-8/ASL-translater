{
 "cells": [
  {
   "cell_type": "code",
   "execution_count": 1,
   "id": "70b2655e",
   "metadata": {},
   "outputs": [
    {
     "name": "stdout",
     "output_type": "stream",
     "text": [
      "WARNING:tensorflow:From c:\\Users\\acer\\miniconda3\\envs\\asl_env\\lib\\site-packages\\keras\\src\\losses.py:2976: The name tf.losses.sparse_softmax_cross_entropy is deprecated. Please use tf.compat.v1.losses.sparse_softmax_cross_entropy instead.\n",
      "\n"
     ]
    }
   ],
   "source": [
    "import os\n",
    "import numpy as np\n",
    "from sklearn.model_selection import train_test_split\n",
    "from tensorflow.keras.utils import to_categorical\n",
    "from tensorflow.keras import layers, models\n",
    "from tensorflow.keras.models import Sequential\n",
    "from tensorflow.keras.layers import Dense, Dropout\n",
    "from tensorflow.keras.callbacks import EarlyStopping, ModelCheckpoint\n",
    "import matplotlib.pyplot as plt\n",
    "import json"
   ]
  },
  {
   "cell_type": "code",
   "execution_count": 2,
   "id": "f2e9332a",
   "metadata": {},
   "outputs": [],
   "source": [
    "DATA_PATH = \"dataset/static/landmarks\"\n",
    "CACHE_DIR = \"dataset/static/cache\"\n",
    "os.makedirs(CACHE_DIR, exist_ok=True)\n",
    "X_FILE = os.path.join(CACHE_DIR, \"X.npy\")\n",
    "Y_FILE = os.path.join(CACHE_DIR, \"y.npy\")\n",
    "LABEL_MAP_FILE = os.path.join(CACHE_DIR, \"label_map.json\")"
   ]
  },
  {
   "cell_type": "code",
   "execution_count": 3,
   "id": "13ac1df8",
   "metadata": {},
   "outputs": [
    {
     "name": "stdout",
     "output_type": "stream",
     "text": [
      "Processing data from scratch...\n"
     ]
    }
   ],
   "source": [
    "if os.path.exists(X_FILE) and os.path.exists(Y_FILE) and os.path.exists(LABEL_MAP_FILE):\n",
    "    print(\"Loading cached data...\")\n",
    "    X = np.load(X_FILE)\n",
    "    y = np.load(Y_FILE)\n",
    "    with open(LABEL_MAP_FILE, \"r\") as f:\n",
    "        label_map = json.load(f)\n",
    "else:\n",
    "    print(\"Processing data from scratch...\")\n",
    "    labels = sorted(os.listdir(DATA_PATH))  # ['A', 'B', ..., 'Z']\n",
    "    label_map = {label: idx for idx, label in enumerate(labels)}\n",
    "    \n",
    "    X, y = [], []\n",
    "\n",
    "    for label in labels:\n",
    "        folder_path = os.path.join(DATA_PATH, label)\n",
    "        for file in os.listdir(folder_path):\n",
    "            if file.endswith(\".npy\"):\n",
    "                data = np.load(os.path.join(folder_path, file))\n",
    "                X.append(data)\n",
    "                y.append(label_map[label])\n",
    "\n",
    "    X = np.array(X)  # shape: (num_samples, 63)\n",
    "    y = np.array(y)\n",
    "\n",
    "    # Save cached data\n",
    "    np.save(X_FILE, X)\n",
    "    np.save(Y_FILE, y)\n",
    "    with open(LABEL_MAP_FILE, \"w\") as f:\n",
    "        json.dump(label_map, f)"
   ]
  },
  {
   "cell_type": "code",
   "execution_count": 4,
   "id": "5a9499af",
   "metadata": {},
   "outputs": [],
   "source": [
    "X_train, X_test, y_train, y_test = train_test_split(\n",
    "    X, y, test_size=0.2, stratify=y, random_state=42\n",
    ")\n"
   ]
  },
  {
   "cell_type": "code",
   "execution_count": 5,
   "id": "ae95e2cd",
   "metadata": {},
   "outputs": [
    {
     "name": "stdout",
     "output_type": "stream",
     "text": [
      "X_train shape: (52880, 63)\n",
      "y_train_encoded shape: (52880, 29)\n"
     ]
    }
   ],
   "source": [
    "num_classes = len(label_map)\n",
    "y_train_encoded = to_categorical(y_train, num_classes=num_classes)\n",
    "y_test_encoded = to_categorical(y_test, num_classes=num_classes)\n",
    "\n",
    "print(\"X_train shape:\", X_train.shape)\n",
    "print(\"y_train_encoded shape:\", y_train_encoded.shape)"
   ]
  },
  {
   "cell_type": "code",
   "execution_count": 6,
   "id": "a649148d",
   "metadata": {},
   "outputs": [
    {
     "name": "stdout",
     "output_type": "stream",
     "text": [
      "X_test shape: (13220, 63)\n",
      "y_test_encoded shape: (13220, 29)\n"
     ]
    }
   ],
   "source": [
    "print(\"X_test shape:\", X_test.shape)\n",
    "print(\"y_test_encoded shape:\", y_test_encoded.shape)"
   ]
  },
  {
   "cell_type": "code",
   "execution_count": 7,
   "id": "3b5a4a0f",
   "metadata": {},
   "outputs": [
    {
     "name": "stdout",
     "output_type": "stream",
     "text": [
      "WARNING:tensorflow:From c:\\Users\\acer\\miniconda3\\envs\\asl_env\\lib\\site-packages\\keras\\src\\backend.py:1398: The name tf.executing_eagerly_outside_functions is deprecated. Please use tf.compat.v1.executing_eagerly_outside_functions instead.\n",
      "\n"
     ]
    }
   ],
   "source": [
    "input_shape = (63,)\n",
    "num_classes = len(label_map)  # 26 for A-Z\n",
    "\n",
    "model = models.Sequential([\n",
    "    layers.Input(shape=input_shape),\n",
    "    layers.Dense(128, activation='relu'),\n",
    "    layers.Dropout(0.3),\n",
    "    layers.Dense(64, activation='relu'),\n",
    "    layers.Dropout(0.3),\n",
    "    layers.Dense(num_classes, activation='softmax')  # Multi-class output\n",
    "])"
   ]
  },
  {
   "cell_type": "code",
   "execution_count": 8,
   "id": "21792dc8",
   "metadata": {},
   "outputs": [
    {
     "name": "stdout",
     "output_type": "stream",
     "text": [
      "WARNING:tensorflow:From c:\\Users\\acer\\miniconda3\\envs\\asl_env\\lib\\site-packages\\keras\\src\\optimizers\\__init__.py:309: The name tf.train.Optimizer is deprecated. Please use tf.compat.v1.train.Optimizer instead.\n",
      "\n",
      "Model: \"sequential\"\n",
      "_________________________________________________________________\n",
      " Layer (type)                Output Shape              Param #   \n",
      "=================================================================\n",
      " dense (Dense)               (None, 128)               8192      \n",
      "                                                                 \n",
      " dropout (Dropout)           (None, 128)               0         \n",
      "                                                                 \n",
      " dense_1 (Dense)             (None, 64)                8256      \n",
      "                                                                 \n",
      " dropout_1 (Dropout)         (None, 64)                0         \n",
      "                                                                 \n",
      " dense_2 (Dense)             (None, 29)                1885      \n",
      "                                                                 \n",
      "=================================================================\n",
      "Total params: 18333 (71.61 KB)\n",
      "Trainable params: 18333 (71.61 KB)\n",
      "Non-trainable params: 0 (0.00 Byte)\n",
      "_________________________________________________________________\n"
     ]
    }
   ],
   "source": [
    "model.compile(\n",
    "    optimizer='adam',\n",
    "    loss='sparse_categorical_crossentropy',\n",
    "    metrics=['accuracy']\n",
    ")\n",
    "\n",
    "model.summary()"
   ]
  },
  {
   "cell_type": "code",
   "execution_count": 9,
   "id": "31fed730",
   "metadata": {},
   "outputs": [],
   "source": [
    "checkpoint_path = \"models/best_asl_landmark_model.h5\"\n",
    "os.makedirs(os.path.dirname(checkpoint_path), exist_ok=True)\n",
    "callbacks = [\n",
    "    EarlyStopping(\n",
    "        monitor='val_loss', \n",
    "        patience=5, \n",
    "        restore_best_weights=True, \n",
    "        verbose=1),\n",
    "    ModelCheckpoint(\n",
    "        checkpoint_path, \n",
    "        monitor='val_loss', \n",
    "        save_best_only=True, \n",
    "        save_weights_only=False,\n",
    "        verbose=1)  \n",
    "]\n"
   ]
  },
  {
   "cell_type": "code",
   "execution_count": 10,
   "id": "95d32faf",
   "metadata": {},
   "outputs": [
    {
     "name": "stdout",
     "output_type": "stream",
     "text": [
      "Epoch 1/50\n",
      "WARNING:tensorflow:From c:\\Users\\acer\\miniconda3\\envs\\asl_env\\lib\\site-packages\\keras\\src\\utils\\tf_utils.py:492: The name tf.ragged.RaggedTensorValue is deprecated. Please use tf.compat.v1.ragged.RaggedTensorValue instead.\n",
      "\n",
      "WARNING:tensorflow:From c:\\Users\\acer\\miniconda3\\envs\\asl_env\\lib\\site-packages\\keras\\src\\engine\\base_layer_utils.py:384: The name tf.executing_eagerly_outside_functions is deprecated. Please use tf.compat.v1.executing_eagerly_outside_functions instead.\n",
      "\n",
      "1633/1653 [============================>.] - ETA: 0s - loss: 1.3970 - accuracy: 0.5879\n",
      "Epoch 1: val_loss improved from inf to 0.39550, saving model to models\\best_asl_landmark_model.h5\n",
      "1653/1653 [==============================] - 4s 2ms/step - loss: 1.3884 - accuracy: 0.5905 - val_loss: 0.3955 - val_accuracy: 0.9188\n",
      "Epoch 2/50\n",
      " 116/1653 [=>............................] - ETA: 2s - loss: 0.5634 - accuracy: 0.8211"
     ]
    },
    {
     "name": "stderr",
     "output_type": "stream",
     "text": [
      "c:\\Users\\acer\\miniconda3\\envs\\asl_env\\lib\\site-packages\\keras\\src\\engine\\training.py:3103: UserWarning: You are saving your model as an HDF5 file via `model.save()`. This file format is considered legacy. We recommend using instead the native Keras format, e.g. `model.save('my_model.keras')`.\n",
      "  saving_api.save_model(\n"
     ]
    },
    {
     "name": "stdout",
     "output_type": "stream",
     "text": [
      "1650/1653 [============================>.] - ETA: 0s - loss: 0.4613 - accuracy: 0.8565\n",
      "Epoch 2: val_loss improved from 0.39550 to 0.21611, saving model to models\\best_asl_landmark_model.h5\n",
      "1653/1653 [==============================] - 3s 2ms/step - loss: 0.4613 - accuracy: 0.8565 - val_loss: 0.2161 - val_accuracy: 0.9533\n",
      "Epoch 3/50\n",
      "1632/1653 [============================>.] - ETA: 0s - loss: 0.3189 - accuracy: 0.9049\n",
      "Epoch 3: val_loss improved from 0.21611 to 0.15458, saving model to models\\best_asl_landmark_model.h5\n",
      "1653/1653 [==============================] - 3s 2ms/step - loss: 0.3184 - accuracy: 0.9050 - val_loss: 0.1546 - val_accuracy: 0.9613\n",
      "Epoch 4/50\n",
      "1630/1653 [============================>.] - ETA: 0s - loss: 0.2556 - accuracy: 0.9213\n",
      "Epoch 4: val_loss improved from 0.15458 to 0.13426, saving model to models\\best_asl_landmark_model.h5\n",
      "1653/1653 [==============================] - 3s 2ms/step - loss: 0.2556 - accuracy: 0.9212 - val_loss: 0.1343 - val_accuracy: 0.9705\n",
      "Epoch 5/50\n",
      "1652/1653 [============================>.] - ETA: 0s - loss: 0.2167 - accuracy: 0.9353\n",
      "Epoch 5: val_loss improved from 0.13426 to 0.12828, saving model to models\\best_asl_landmark_model.h5\n",
      "1653/1653 [==============================] - 3s 2ms/step - loss: 0.2167 - accuracy: 0.9354 - val_loss: 0.1283 - val_accuracy: 0.9688\n",
      "Epoch 6/50\n",
      "1625/1653 [============================>.] - ETA: 0s - loss: 0.1970 - accuracy: 0.9413\n",
      "Epoch 6: val_loss improved from 0.12828 to 0.09693, saving model to models\\best_asl_landmark_model.h5\n",
      "1653/1653 [==============================] - 3s 2ms/step - loss: 0.1966 - accuracy: 0.9413 - val_loss: 0.0969 - val_accuracy: 0.9760\n",
      "Epoch 7/50\n",
      "1619/1653 [============================>.] - ETA: 0s - loss: 0.1828 - accuracy: 0.9449\n",
      "Epoch 7: val_loss did not improve from 0.09693\n",
      "1653/1653 [==============================] - 3s 2ms/step - loss: 0.1824 - accuracy: 0.9450 - val_loss: 0.1026 - val_accuracy: 0.9679\n",
      "Epoch 8/50\n",
      "1628/1653 [============================>.] - ETA: 0s - loss: 0.1741 - accuracy: 0.9469\n",
      "Epoch 8: val_loss improved from 0.09693 to 0.09001, saving model to models\\best_asl_landmark_model.h5\n",
      "1653/1653 [==============================] - 3s 2ms/step - loss: 0.1732 - accuracy: 0.9472 - val_loss: 0.0900 - val_accuracy: 0.9731\n",
      "Epoch 9/50\n",
      "1631/1653 [============================>.] - ETA: 0s - loss: 0.1601 - accuracy: 0.9512\n",
      "Epoch 9: val_loss improved from 0.09001 to 0.07873, saving model to models\\best_asl_landmark_model.h5\n",
      "1653/1653 [==============================] - 3s 2ms/step - loss: 0.1598 - accuracy: 0.9514 - val_loss: 0.0787 - val_accuracy: 0.9811\n",
      "Epoch 10/50\n",
      "1642/1653 [============================>.] - ETA: 0s - loss: 0.1524 - accuracy: 0.9546\n",
      "Epoch 10: val_loss did not improve from 0.07873\n",
      "1653/1653 [==============================] - 3s 2ms/step - loss: 0.1526 - accuracy: 0.9546 - val_loss: 0.0806 - val_accuracy: 0.9785\n",
      "Epoch 11/50\n",
      "1649/1653 [============================>.] - ETA: 0s - loss: 0.1480 - accuracy: 0.9558\n",
      "Epoch 11: val_loss improved from 0.07873 to 0.07432, saving model to models\\best_asl_landmark_model.h5\n",
      "1653/1653 [==============================] - 3s 2ms/step - loss: 0.1479 - accuracy: 0.9558 - val_loss: 0.0743 - val_accuracy: 0.9810\n",
      "Epoch 12/50\n",
      "1634/1653 [============================>.] - ETA: 0s - loss: 0.1388 - accuracy: 0.9576\n",
      "Epoch 12: val_loss improved from 0.07432 to 0.07413, saving model to models\\best_asl_landmark_model.h5\n",
      "1653/1653 [==============================] - 3s 2ms/step - loss: 0.1393 - accuracy: 0.9576 - val_loss: 0.0741 - val_accuracy: 0.9798\n",
      "Epoch 13/50\n",
      "1632/1653 [============================>.] - ETA: 0s - loss: 0.1394 - accuracy: 0.9581\n",
      "Epoch 13: val_loss improved from 0.07413 to 0.07286, saving model to models\\best_asl_landmark_model.h5\n",
      "1653/1653 [==============================] - 3s 2ms/step - loss: 0.1396 - accuracy: 0.9581 - val_loss: 0.0729 - val_accuracy: 0.9803\n",
      "Epoch 14/50\n",
      "1653/1653 [==============================] - ETA: 0s - loss: 0.1341 - accuracy: 0.9595\n",
      "Epoch 14: val_loss improved from 0.07286 to 0.06859, saving model to models\\best_asl_landmark_model.h5\n",
      "1653/1653 [==============================] - 3s 2ms/step - loss: 0.1341 - accuracy: 0.9595 - val_loss: 0.0686 - val_accuracy: 0.9823\n",
      "Epoch 15/50\n",
      "1640/1653 [============================>.] - ETA: 0s - loss: 0.1306 - accuracy: 0.9598\n",
      "Epoch 15: val_loss did not improve from 0.06859\n",
      "1653/1653 [==============================] - 3s 2ms/step - loss: 0.1303 - accuracy: 0.9599 - val_loss: 0.0701 - val_accuracy: 0.9811\n",
      "Epoch 16/50\n",
      "1638/1653 [============================>.] - ETA: 0s - loss: 0.1291 - accuracy: 0.9608\n",
      "Epoch 16: val_loss improved from 0.06859 to 0.06501, saving model to models\\best_asl_landmark_model.h5\n",
      "1653/1653 [==============================] - 3s 2ms/step - loss: 0.1291 - accuracy: 0.9607 - val_loss: 0.0650 - val_accuracy: 0.9842\n",
      "Epoch 17/50\n",
      "1620/1653 [============================>.] - ETA: 0s - loss: 0.1232 - accuracy: 0.9629\n",
      "Epoch 17: val_loss improved from 0.06501 to 0.06171, saving model to models\\best_asl_landmark_model.h5\n",
      "1653/1653 [==============================] - 3s 2ms/step - loss: 0.1238 - accuracy: 0.9629 - val_loss: 0.0617 - val_accuracy: 0.9836\n",
      "Epoch 18/50\n",
      "1613/1653 [============================>.] - ETA: 0s - loss: 0.1263 - accuracy: 0.9615\n",
      "Epoch 18: val_loss did not improve from 0.06171\n",
      "1653/1653 [==============================] - 3s 2ms/step - loss: 0.1258 - accuracy: 0.9615 - val_loss: 0.0672 - val_accuracy: 0.9828\n",
      "Epoch 19/50\n",
      "1641/1653 [============================>.] - ETA: 0s - loss: 0.1176 - accuracy: 0.9648\n",
      "Epoch 19: val_loss did not improve from 0.06171\n",
      "1653/1653 [==============================] - 3s 2ms/step - loss: 0.1180 - accuracy: 0.9647 - val_loss: 0.0629 - val_accuracy: 0.9856\n",
      "Epoch 20/50\n",
      "1652/1653 [============================>.] - ETA: 0s - loss: 0.1214 - accuracy: 0.9628\n",
      "Epoch 20: val_loss improved from 0.06171 to 0.05883, saving model to models\\best_asl_landmark_model.h5\n",
      "1653/1653 [==============================] - 3s 2ms/step - loss: 0.1214 - accuracy: 0.9628 - val_loss: 0.0588 - val_accuracy: 0.9845\n",
      "Epoch 21/50\n",
      "1628/1653 [============================>.] - ETA: 0s - loss: 0.1131 - accuracy: 0.9654\n",
      "Epoch 21: val_loss improved from 0.05883 to 0.05595, saving model to models\\best_asl_landmark_model.h5\n",
      "1653/1653 [==============================] - 3s 2ms/step - loss: 0.1136 - accuracy: 0.9652 - val_loss: 0.0559 - val_accuracy: 0.9876\n",
      "Epoch 22/50\n",
      "1633/1653 [============================>.] - ETA: 0s - loss: 0.1126 - accuracy: 0.9663\n",
      "Epoch 22: val_loss did not improve from 0.05595\n",
      "1653/1653 [==============================] - 3s 2ms/step - loss: 0.1125 - accuracy: 0.9662 - val_loss: 0.0641 - val_accuracy: 0.9838\n",
      "Epoch 23/50\n",
      "1628/1653 [============================>.] - ETA: 0s - loss: 0.1113 - accuracy: 0.9664\n",
      "Epoch 23: val_loss did not improve from 0.05595\n",
      "1653/1653 [==============================] - 3s 2ms/step - loss: 0.1111 - accuracy: 0.9665 - val_loss: 0.0595 - val_accuracy: 0.9856\n",
      "Epoch 24/50\n",
      "1647/1653 [============================>.] - ETA: 0s - loss: 0.1078 - accuracy: 0.9673\n",
      "Epoch 24: val_loss did not improve from 0.05595\n",
      "1653/1653 [==============================] - 3s 2ms/step - loss: 0.1079 - accuracy: 0.9674 - val_loss: 0.0589 - val_accuracy: 0.9852\n",
      "Epoch 25/50\n",
      "1649/1653 [============================>.] - ETA: 0s - loss: 0.1070 - accuracy: 0.9668\n",
      "Epoch 25: val_loss did not improve from 0.05595\n",
      "1653/1653 [==============================] - 3s 2ms/step - loss: 0.1070 - accuracy: 0.9668 - val_loss: 0.0607 - val_accuracy: 0.9854\n",
      "Epoch 26/50\n",
      "1633/1653 [============================>.] - ETA: 0s - loss: 0.1110 - accuracy: 0.9666Restoring model weights from the end of the best epoch: 21.\n",
      "\n",
      "Epoch 26: val_loss did not improve from 0.05595\n",
      "1653/1653 [==============================] - 3s 2ms/step - loss: 0.1109 - accuracy: 0.9666 - val_loss: 0.0609 - val_accuracy: 0.9845\n",
      "Epoch 26: early stopping\n"
     ]
    }
   ],
   "source": [
    "history = model.fit(\n",
    "    X_train, y_train,\n",
    "    validation_data=(X_test, y_test),\n",
    "    epochs=50,\n",
    "    batch_size=32,\n",
    "    callbacks=callbacks\n",
    ")"
   ]
  },
  {
   "cell_type": "code",
   "execution_count": 11,
   "id": "102297f7",
   "metadata": {},
   "outputs": [
    {
     "data": {
      "image/png": "[encoded data removed]",
      "text/plain": [
       "<Figure size 1200x500 with 2 Axes>"
      ]
     },
     "metadata": {},
     "output_type": "display_data"
    }
   ],
   "source": [
    "def plot_training_history(history):\n",
    "    acc = history.history['accuracy']\n",
    "    val_acc = history.history['val_accuracy']\n",
    "    loss = history.history['loss']\n",
    "    val_loss = history.history['val_loss']\n",
    "    epochs_range = range(len(acc))\n",
    "\n",
    "    plt.figure(figsize=(12, 5))\n",
    "\n",
    "    # Accuracy Plot\n",
    "    plt.subplot(1, 2, 1)\n",
    "    plt.plot(epochs_range, acc, label='Training Accuracy')\n",
    "    plt.plot(epochs_range, val_acc, label='Validation Accuracy')\n",
    "    plt.title('Training vs Validation Accuracy')\n",
    "    plt.xlabel('Epoch')\n",
    "    plt.ylabel('Accuracy')\n",
    "    plt.legend(loc='lower right')\n",
    "\n",
    "    # Loss Plot\n",
    "    plt.subplot(1, 2, 2)\n",
    "    plt.plot(epochs_range, loss, label='Training Loss')\n",
    "    plt.plot(epochs_range, val_loss, label='Validation Loss')\n",
    "    plt.title('Training vs Validation Loss')\n",
    "    plt.xlabel('Epoch')\n",
    "    plt.ylabel('Loss')\n",
    "    plt.legend(loc='upper right')\n",
    "\n",
    "    plt.tight_layout()\n",
    "    plt.show()\n",
    "\n",
    "plot_training_history(history)"
   ]
  },
  {
   "cell_type": "code",
   "execution_count": null,
   "id": "4f8eb9ac",
   "metadata": {},
   "outputs": [],
   "source": []
  }
 ],
 "metadata": {
  "kernelspec": {
   "display_name": "asl_env",
   "language": "python",
   "name": "python3"
  },
  "language_info": {
   "codemirror_mode": {
    "name": "ipython",
    "version": 3
   },
   "file_extension": ".py",
   "mimetype": "text/x-python",
   "name": "python",
   "nbconvert_exporter": "python",
   "pygments_lexer": "ipython3",
   "version": "3.10.18"
  }
 },
 "nbformat": 4,
 "nbformat_minor": 5
}
